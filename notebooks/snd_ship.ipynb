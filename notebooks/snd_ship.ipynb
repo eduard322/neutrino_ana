{
 "cells": [
  {
   "cell_type": "code",
   "execution_count": 1,
   "id": "c83b5cc6-4892-455c-84c7-ec691e1351ed",
   "metadata": {},
   "outputs": [],
   "source": [
    "import pandas as pd\n",
    "import numpy as np\n",
    "import matplotlib.pyplot as plt"
   ]
  },
  {
   "cell_type": "code",
   "execution_count": null,
   "id": "1189ba2c-07e0-4e0d-ac2c-493dc5f43d36",
   "metadata": {},
   "outputs": [],
   "source": [
    "def rotate_point(x, y, theta):\n",
    "    \"\"\"\n",
    "    Rotates a point (x, y) by an angle theta (in radians).\n",
    "    \n",
    "    Args:\n",
    "    x (float): The x-coordinate of the point.\n",
    "    y (float): The y-coordinate of the point.\n",
    "    theta (float): The rotation angle in radians.\n",
    "\n",
    "    Returns:\n",
    "    (float, float): The rotated coordinates (x', y').\n",
    "    \"\"\"\n",
    "    # Rotation matrix components\n",
    "    cos_theta = np.cos(theta)\n",
    "    sin_theta = np.sin(theta)\n",
    "    \n",
    "    # Apply the rotation formula\n",
    "    x_prime = x * cos_theta - y * sin_theta\n",
    "    y_prime = x * sin_theta + y * cos_theta\n",
    "    \n",
    "    return x_prime, y_prime\n",
    "\n",
    "\n",
    "\n",
    "def mu_hadr_angles(z_c, y_int, det_height, angle_int):\n",
    "    mu_angle = np.arctan((det_height - y_int)/z_c)\n",
    "    hadr_angle = np.arctan(y_int/z_c)\n",
    "    return mu_angle, hadr_angle"
   ]
  },
  {
   "cell_type": "code",
   "execution_count": null,
   "id": "1f295f9d-29a7-4579-aa2a-3ac0f921eb37",
   "metadata": {},
   "outputs": [],
   "source": []
  }
 ],
 "metadata": {
  "kernelspec": {
   "display_name": "Python 3 (ipykernel)",
   "language": "python",
   "name": "python3"
  },
  "language_info": {
   "codemirror_mode": {
    "name": "ipython",
    "version": 3
   },
   "file_extension": ".py",
   "mimetype": "text/x-python",
   "name": "python",
   "nbconvert_exporter": "python",
   "pygments_lexer": "ipython3",
   "version": "3.12.4"
  }
 },
 "nbformat": 4,
 "nbformat_minor": 5
}
