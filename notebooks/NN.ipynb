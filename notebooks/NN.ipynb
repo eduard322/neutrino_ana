{
 "cells": [
  {
   "cell_type": "code",
   "execution_count": null,
   "id": "533fbdb0-f85e-4d1a-933e-162873aca82a",
   "metadata": {},
   "outputs": [],
   "source": [
    "import sys\n",
    "# setting path\n",
    "import os\n",
    "new_directory = '/Users/eduard/Projects/PhD/numunutau/neutrino_ana/'\n",
    "os.chdir(new_directory)\n",
    "from scripts import *\n",
    "import matplotlib.pyplot as plt\n",
    "import numpy as np\n",
    "import pandas as pd\n",
    "import seaborn as sns\n",
    "import ROOT as r\n",
    "from array import array\n",
    "sns.set_style(\"whitegrid\")"
   ]
  }
 ],
 "metadata": {
  "kernelspec": {
   "display_name": "Python 3 (ipykernel)",
   "language": "python",
   "name": "python3"
  },
  "language_info": {
   "codemirror_mode": {
    "name": "ipython",
    "version": 3
   },
   "file_extension": ".py",
   "mimetype": "text/x-python",
   "name": "python",
   "nbconvert_exporter": "python",
   "pygments_lexer": "ipython3",
   "version": "3.12.4"
  }
 },
 "nbformat": 4,
 "nbformat_minor": 5
}
