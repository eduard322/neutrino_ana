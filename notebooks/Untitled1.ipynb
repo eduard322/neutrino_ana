{
 "cells": [
  {
   "cell_type": "code",
   "execution_count": 58,
   "id": "e009be65-c9e2-4cc3-bad5-717f4e490093",
   "metadata": {},
   "outputs": [
    {
     "name": "stdout",
     "output_type": "stream",
     "text": [
      "Collecting kaleido\n",
      "  Downloading kaleido-0.2.1-py2.py3-none-macosx_11_0_arm64.whl.metadata (15 kB)\n",
      "Downloading kaleido-0.2.1-py2.py3-none-macosx_11_0_arm64.whl (85.8 MB)\n",
      "\u001b[2K   \u001b[90m━━━━━━━━━━━━━━━━━━━━━━━━━━━━━━━━━━━━━━━━\u001b[0m \u001b[32m85.8/85.8 MB\u001b[0m \u001b[31m18.8 MB/s\u001b[0m eta \u001b[36m0:00:00\u001b[0m00:01\u001b[0m00:01\u001b[0m\n",
      "\u001b[?25hInstalling collected packages: kaleido\n",
      "Successfully installed kaleido-0.2.1\n"
     ]
    }
   ],
   "source": [
    "!pip install -U kaleido"
   ]
  },
  {
   "cell_type": "code",
   "execution_count": 62,
   "id": "16836c0c-2f35-446f-8d65-466ebf66bff0",
   "metadata": {},
   "outputs": [],
   "source": [
    "import pandas as pd \n",
    "import numpy as np\n",
    "import matplotlib.pyplot as plt\n",
    "import matplotlib.patches as patches\n",
    "import matplotlib as mpl\n",
    "import seaborn as sb\n",
    "import ROOT as r\n",
    "from matplotlib import image\n",
    "from array import array\n",
    "import uproot\n",
    "from pathlib import Path\n",
    "import plotly.graph_objects as go\n",
    "import plotly.express as px\n",
    "from matplotlib.colors import Normalize\n",
    "from plotly.subplots import make_subplots\n",
    "from mpl_toolkits.axes_grid1 import ImageGrid\n",
    "from itertools import chain\n",
    "import matplotlib\n",
    "import multiprocessing as mp\n",
    "import os\n",
    "import plotly.figure_factory as ff\n",
    "\n",
    "def plot_arrays_from_params(paramsShield, is_sc=False, return_fig=False):\n",
    "    dZ = paramsShield[0:8]\n",
    "    dX_in = paramsShield[8::6]\n",
    "    dX_out = paramsShield[9::6]\n",
    "    dY_in = paramsShield[10::6]\n",
    "    dY_out = paramsShield[11::6]\n",
    "    gap_in = paramsShield[12::6]\n",
    "    gap_out = paramsShield[13::6]\n",
    "\n",
    "    yGaps = []\n",
    "    xGaps=[]\n",
    "    \n",
    "    plot_z = []\n",
    "    plot_x = []\n",
    "    plot_y = []\n",
    "    \n",
    "    for i in range(2, 8):\n",
    "        yGaps = yGaps + [-dY_in[i], dY_in[i], dY_out[i], -dY_out[i], -dY_in[i], None]\n",
    "        xGaps = xGaps + [dX_in[i], dX_in[i]+gap_in[i], dX_out[i]+gap_out[i] , dX_out[i], dX_in[i], None]\n",
    "        c_z = 0 if len(plot_z) == 0 else plot_z[-3]\n",
    "        plot_z = plot_z + [c_z+10, c_z+10, c_z+10 + 2*dZ[i], c_z + 10 + 2*dZ[i], c_z + 10, None]\n",
    "        if is_sc and i == 3:\n",
    "            plot_x = plot_x + [-(4*dX_in[i]+gap_in[i]), (4*dX_in[i]+gap_in[i]), (4*dX_out[i]+gap_out[i]), -(4*dX_out[i]+gap_out[i]), -(4*dX_in[i]+gap_in[i]), None]\n",
    "            plot_y = plot_y + [-(3*dX_in[i]+dY_in[i]), (3*dX_in[i]+dY_in[i]), (3*dX_out[i]+dY_out[i]), -(3*dX_out[i]+dY_out[i]), -(3*dX_in[i]+dY_in[i]), None]\n",
    "        else:\n",
    "            plot_x = plot_x + [-(2*dX_in[i]+gap_in[i]), (2*dX_in[i]+gap_in[i]), (2*dX_out[i]+gap_out[i]), -(2*dX_out[i]+gap_out[i]), -(2*dX_in[i]+gap_in[i]), None]\n",
    "            plot_y = plot_y + [-(dX_in[i]+dY_in[i]), (dX_in[i]+dY_in[i]), (dX_out[i]+dY_out[i]), -(dX_out[i]+dY_out[i]), -(dX_in[i]+dY_in[i]), None]\n",
    "    return([plot_x, plot_y, plot_z, xGaps, yGaps])\n",
    "        \n",
    "def plot_shield_from_verts_part(plot_verts, is_sc, what_to_plot, fig, row, col):\n",
    "    gap_color = 'rgba(168, 235, 203, 0.5)'\n",
    "    #gap_color = \"white\"\n",
    "    up_color = 'rgba(255,99,71, 0.8)'\n",
    "    #up_color = \"red\"\n",
    "    down_color = 'rgba(255,99,71, 0.8)'\n",
    "    #down_color = \"red\"\n",
    "    x, y, z, gap_x, gap_y = plot_verts\n",
    "    \n",
    "    zMax = np.max([ik for ik in z if ik is not None])\n",
    "    zMin = np.min([ik for ik in z if ik is not None])\n",
    "    half_position = np.argwhere(np.invert([np.isscalar(xi) for xi in x])).flatten()[2]\n",
    "#     print(half_position)\n",
    "#     print(half_position)\n",
    "    if what_to_plot==0:\n",
    "        if is_sc:\n",
    "            gap_x = gap_x[:half_position-6] + gap_x[half_position:]\n",
    "            data = [\n",
    "                go.Scatter(x=z[:half_position-6], y=x[:half_position-6], fill=\"toself\", fillcolor=up_color, line_color=up_color, marker=dict(opacity=0), meta=dict(name=\"Up polarity\"), showlegend = False),\n",
    "                go.Scatter(x=z[half_position:], y=x[half_position:], fill=\"toself\", fillcolor=down_color, line_color=down_color, marker=dict(opacity=0), meta=dict(name=\"Up polarity\"), showlegend = False), \n",
    "                go.Scatter(x=z[:half_position-6] + z[half_position:], y=gap_x, fill=\"toself\", fillcolor=gap_color, line_color=gap_color, marker=dict(opacity=0), showlegend = False),\n",
    "                go.Scatter(x=z[:half_position-6] + z[half_position:], y=[-p if p else None for p in gap_x], fill=\"toself\", fillcolor=gap_color, line_color=gap_color, marker=dict(opacity=0), showlegend = False)\n",
    "                   ]\n",
    "        else:\n",
    "            data = [\n",
    "                go.Scatter(x=z[:half_position], y=x[:half_position], fill=\"toself\", fillcolor=up_color, line_color=up_color, marker=dict(opacity=0), meta=dict(name=\"Up polarity\"), showlegend = False),\n",
    "                go.Scatter(x=z[half_position:], y=x[half_position:], fill=\"toself\", fillcolor=down_color, line_color=down_color, marker=dict(opacity=0), meta=dict(name=\"Up polarity\"), showlegend = False), \n",
    "                go.Scatter(x=z, y=gap_x, fill=\"toself\", fillcolor=gap_color, line_color=gap_color, marker=dict(opacity=0), showlegend = False),\n",
    "                go.Scatter(x=z, y=[-p if p else None for p in gap_x], fill=\"toself\", fillcolor=gap_color, line_color=gap_color, marker=dict(opacity=0), showlegend = False)\n",
    "                   ]\n",
    "\n",
    "        down_color = 'rgba(135,206,250, 0.9)'\n",
    "        #down_color = 'blue'\n",
    "        rec_1 = go.Scatter(x=[996.322, 996.322, 1365.99, 1365.99, 996.322], y=[-25 , 25, 45, -45, -25], fill=\"toself\", \n",
    "                           fillcolor=down_color, line_color=down_color, marker=dict(opacity=0), \n",
    "                           meta=dict(name=\"Up polarity\"), showlegend = False)\n",
    "        data.append(rec_1)\n",
    "        \n",
    "        rec_1 = go.Scatter(x=[996.322, 996.322, 1365.99, 1365.99, 996.322], y=[-25, 25, 25, -25, -25], fill=\"toself\", \n",
    "                           fillcolor=\"green\", line_color=\"green\", marker=dict(opacity=0), \n",
    "                           meta=dict(name=\"Up polarity\"), showlegend = False)\n",
    "        data.append(rec_1)\n",
    "\n",
    "        rec_2 = go.Scatter(x=[1375.99, 1375.99, 1676.376, 1676.376, 1375.99], y=[-2, 2, 98, -98, -4], fill=\"toself\", \n",
    "                           fillcolor=down_color, line_color=down_color, marker=dict(opacity=0), \n",
    "                           meta=dict(name=\"Up polarity\"), showlegend = False)\n",
    "        data.append(rec_2)\n",
    "        \n",
    "        rec_2 = go.Scatter(x=[1405., 1405., 1676.376, 1676.376, 1405.], y=[-25, 25, 25, -25, -25], fill=\"toself\", \n",
    "                           fillcolor=\"green\", line_color=\"green\", marker=dict(opacity=0), \n",
    "                           meta=dict(name=\"Up polarity\"), showlegend = False)\n",
    "        data.append(rec_2)\n",
    "\n",
    "        rec_3 = go.Scatter(x=[1686.376, 1686.376, 2060, 2060, 1686.376], y=[0, 0, 96, -96, 0], fill=\"toself\", \n",
    "                           fillcolor=down_color, line_color=down_color, marker=dict(opacity=0), \n",
    "                           meta=dict(name=\"Up polarity\"), showlegend = False)\n",
    "        data.append(rec_3)\n",
    "        \n",
    "        rec_3 = go.Scatter(x=[1686.376, 1686.376, 2060, 2060, 1686.376], y=[-25, 25, 25, -25, -25], fill=\"toself\", \n",
    "                           fillcolor=\"green\", line_color=\"green\", marker=dict(opacity=0), \n",
    "                           meta=dict(name=\"Up polarity\"), showlegend = False)\n",
    "        data.append(rec_3)\n",
    "\n",
    "        rec_3 = go.Scatter(x=[20, 726.156, 726.156, 20, 20], y=[209, 199, 55, 55, 209], fill=\"toself\", \n",
    "                           fillcolor=down_color, line_color=down_color, marker=dict(opacity=0), \n",
    "                           meta=dict(name=\"Up polarity\"), showlegend = False)\n",
    "        data.append(rec_3)\n",
    "        rec_3 = go.Scatter(x=[20, 726.156, 726.156, 20, 20], y=[-209, -199, -55, -55, -209], fill=\"toself\", \n",
    "                           fillcolor=down_color, line_color=down_color, marker=dict(opacity=0), \n",
    "                           meta=dict(name=\"Up polarity\"), showlegend = False)\n",
    "        data.append(rec_3)\n",
    "        \n",
    "        for lines in data:\n",
    "            fig.add_trace(lines,\n",
    "                #row=row, col=col\n",
    "                         )\n",
    "        #fig.add_trace(rec_1)\n",
    "\n",
    "\n",
    "            # Update xaxis properties\n",
    "        fig.update_xaxes(title_text = 'Z [cm]',\n",
    "                         range=[zMin, zMax+50], \n",
    "                         #row=row, col=col\n",
    "                        )\n",
    "        # Update yaxis properties\n",
    "        fig.update_yaxes(title_text='X [cm]', range=[-330, 330], \n",
    "                         #row=row, col=col\n",
    "                        )\n",
    "\n",
    "        \n",
    "    else:\n",
    "        if is_sc:\n",
    "            gap_y = gap_y[:half_position-6] + gap_y[half_position:]\n",
    "            data=[\n",
    "            go.Scatter(x=z[:half_position-6], y=y[:half_position-6], fill=\"toself\", fillcolor=up_color, line_color=up_color, marker=dict(opacity=0), meta=dict(name=\"Up polarity\"), showlegend = False),\n",
    "            go.Scatter(x=z[half_position:], y=y[half_position:], fill=\"toself\", fillcolor=down_color, line_color=down_color, marker=dict(opacity=0), meta=dict(name=\"Up polarity\"), showlegend = False), \n",
    "            go.Scatter(x=z[:half_position-6] + z[half_position:], y=gap_y, fill=\"toself\", fillcolor=gap_color, line_color=gap_color, marker=dict(opacity=0), showlegend = False)\n",
    "               ]\n",
    "        else:\n",
    "            data=[\n",
    "            go.Scatter(x=z[:half_position], y=y[:half_position], fill=\"toself\", fillcolor=up_color, line_color=up_color, marker=dict(opacity=0), meta=dict(name=\"Up polarity\"), showlegend = False),\n",
    "            go.Scatter(x=z[half_position:], y=y[half_position:], fill=\"toself\", fillcolor=down_color, line_color=down_color, marker=dict(opacity=0), meta=dict(name=\"Up polarity\"), showlegend = False), \n",
    "            go.Scatter(x=z, y=gap_y, fill=\"toself\", fillcolor=gap_color, line_color=gap_color, marker=dict(opacity=0), showlegend = False)\n",
    "               ]\n",
    "\n",
    "        for lines in data:\n",
    "            fig.add_trace(lines,\n",
    "            #row=row, col=col\n",
    "                         ) \n",
    "        fig.update_xaxes(title_text='Z [cm]', range=[zMin, zMax+50], \n",
    "                         #row=row, col=col\n",
    "                        )\n",
    "        # Update yaxis properties\n",
    "        fig.update_yaxes(title_text='Y [cm]', range=[-330, 330], \n",
    "                         #row=row, col=col\n",
    "                        )"
   ]
  },
  {
   "cell_type": "code",
   "execution_count": 67,
   "id": "01bb84fd-58a3-4790-9e43-8f367f9a78ec",
   "metadata": {},
   "outputs": [
    {
     "data": {
      "application/vnd.plotly.v1+json": {
       "config": {
        "plotlyServerURL": "https://plot.ly"
       },
       "data": [
        {
         "fill": "toself",
         "fillcolor": "rgba(255,99,71, 0.8)",
         "line": {
          "color": "rgba(255,99,71, 0.8)"
         },
         "marker": {
          "opacity": 0
         },
         "meta": {
          "name": "Up polarity"
         },
         "showlegend": false,
         "type": "scatter",
         "x": [
          10,
          10,
          10,
          10,
          10,
          null,
          20,
          20,
          726.156,
          726.156,
          20
         ],
         "y": [
          -154,
          154,
          109,
          -109,
          -154,
          null,
          -209.7615,
          209.7615,
          199,
          -199,
          -209.7615
         ]
        },
        {
         "fill": "toself",
         "fillcolor": "rgba(255,99,71, 0.8)",
         "line": {
          "color": "rgba(255,99,71, 0.8)"
         },
         "marker": {
          "opacity": 0
         },
         "meta": {
          "name": "Up polarity"
         },
         "showlegend": false,
         "type": "scatter",
         "x": [
          null,
          996.3219999999999,
          996.3219999999999,
          1365.9899999999998,
          1365.9899999999998,
          996.3219999999999,
          null,
          1375.9899999999998,
          1375.9899999999998,
          1676.3759999999997,
          1676.3759999999997,
          1375.9899999999998,
          null,
          1686.3759999999997,
          1686.3759999999997,
          2060,
          2060,
          1686.3759999999997,
          null
         ],
         "y": [
          null,
          -65.3913,
          65.3913,
          114.30709999999999,
          -114.30709999999999,
          -65.3913,
          null,
          -8,
          8,
          204.8004,
          -204.8004,
          -8,
          null,
          -52.8285,
          52.8285,
          202,
          -202,
          -52.8285,
          null
         ]
        },
        {
         "fill": "toself",
         "fillcolor": "rgba(168, 235, 203, 0.5)",
         "line": {
          "color": "rgba(168, 235, 203, 0.5)"
         },
         "marker": {
          "opacity": 0
         },
         "showlegend": false,
         "type": "scatter",
         "x": [
          10,
          10,
          10,
          10,
          10,
          null,
          20,
          20,
          726.156,
          726.156,
          20,
          null,
          996.3219999999999,
          996.3219999999999,
          1365.9899999999998,
          1365.9899999999998,
          996.3219999999999,
          null,
          1375.9899999999998,
          1375.9899999999998,
          1676.3759999999997,
          1676.3759999999997,
          1375.9899999999998,
          null,
          1686.3759999999997,
          1686.3759999999997,
          2060,
          2060,
          1686.3759999999997,
          null
         ],
         "y": [
          72,
          82,
          58,
          51,
          72,
          null,
          45.6888,
          72.6951,
          61.9336,
          45.6888,
          45.6888,
          null,
          24.7961,
          40.5952,
          65.5432,
          48.7639,
          24.7961,
          null,
          3,
          5,
          104.8004,
          100,
          3,
          null,
          3,
          49.8285,
          102,
          100,
          3,
          null
         ]
        },
        {
         "fill": "toself",
         "fillcolor": "rgba(168, 235, 203, 0.5)",
         "line": {
          "color": "rgba(168, 235, 203, 0.5)"
         },
         "marker": {
          "opacity": 0
         },
         "showlegend": false,
         "type": "scatter",
         "x": [
          10,
          10,
          10,
          10,
          10,
          null,
          20,
          20,
          726.156,
          726.156,
          20,
          null,
          996.3219999999999,
          996.3219999999999,
          1365.9899999999998,
          1365.9899999999998,
          996.3219999999999,
          null,
          1375.9899999999998,
          1375.9899999999998,
          1676.3759999999997,
          1676.3759999999997,
          1375.9899999999998,
          null,
          1686.3759999999997,
          1686.3759999999997,
          2060,
          2060,
          1686.3759999999997,
          null
         ],
         "y": [
          -72,
          -82,
          -58,
          -51,
          -72,
          null,
          -45.6888,
          -72.6951,
          -61.9336,
          -45.6888,
          -45.6888,
          null,
          -24.7961,
          -40.5952,
          -65.5432,
          -48.7639,
          -24.7961,
          null,
          -3,
          -5,
          -104.8004,
          -100,
          -3,
          null,
          -3,
          -49.8285,
          -102,
          -100,
          -3,
          null
         ]
        },
        {
         "fill": "toself",
         "fillcolor": "rgba(135,206,250, 0.9)",
         "line": {
          "color": "rgba(135,206,250, 0.9)"
         },
         "marker": {
          "opacity": 0
         },
         "meta": {
          "name": "Up polarity"
         },
         "showlegend": false,
         "type": "scatter",
         "x": [
          996.322,
          996.322,
          1365.99,
          1365.99,
          996.322
         ],
         "y": [
          -25,
          25,
          45,
          -45,
          -25
         ]
        },
        {
         "fill": "toself",
         "fillcolor": "green",
         "line": {
          "color": "green"
         },
         "marker": {
          "opacity": 0
         },
         "meta": {
          "name": "Up polarity"
         },
         "showlegend": false,
         "type": "scatter",
         "x": [
          996.322,
          996.322,
          1365.99,
          1365.99,
          996.322
         ],
         "y": [
          -25,
          25,
          25,
          -25,
          -25
         ]
        },
        {
         "fill": "toself",
         "fillcolor": "rgba(135,206,250, 0.9)",
         "line": {
          "color": "rgba(135,206,250, 0.9)"
         },
         "marker": {
          "opacity": 0
         },
         "meta": {
          "name": "Up polarity"
         },
         "showlegend": false,
         "type": "scatter",
         "x": [
          1375.99,
          1375.99,
          1676.376,
          1676.376,
          1375.99
         ],
         "y": [
          -2,
          2,
          98,
          -98,
          -4
         ]
        },
        {
         "fill": "toself",
         "fillcolor": "green",
         "line": {
          "color": "green"
         },
         "marker": {
          "opacity": 0
         },
         "meta": {
          "name": "Up polarity"
         },
         "showlegend": false,
         "type": "scatter",
         "x": [
          1405,
          1405,
          1676.376,
          1676.376,
          1405
         ],
         "y": [
          -25,
          25,
          25,
          -25,
          -25
         ]
        },
        {
         "fill": "toself",
         "fillcolor": "rgba(135,206,250, 0.9)",
         "line": {
          "color": "rgba(135,206,250, 0.9)"
         },
         "marker": {
          "opacity": 0
         },
         "meta": {
          "name": "Up polarity"
         },
         "showlegend": false,
         "type": "scatter",
         "x": [
          1686.376,
          1686.376,
          2060,
          2060,
          1686.376
         ],
         "y": [
          0,
          0,
          96,
          -96,
          0
         ]
        },
        {
         "fill": "toself",
         "fillcolor": "green",
         "line": {
          "color": "green"
         },
         "marker": {
          "opacity": 0
         },
         "meta": {
          "name": "Up polarity"
         },
         "showlegend": false,
         "type": "scatter",
         "x": [
          1686.376,
          1686.376,
          2060,
          2060,
          1686.376
         ],
         "y": [
          -25,
          25,
          25,
          -25,
          -25
         ]
        },
        {
         "fill": "toself",
         "fillcolor": "rgba(135,206,250, 0.9)",
         "line": {
          "color": "rgba(135,206,250, 0.9)"
         },
         "marker": {
          "opacity": 0
         },
         "meta": {
          "name": "Up polarity"
         },
         "showlegend": false,
         "type": "scatter",
         "x": [
          20,
          726.156,
          726.156,
          20,
          20
         ],
         "y": [
          209,
          199,
          55,
          55,
          209
         ]
        },
        {
         "fill": "toself",
         "fillcolor": "rgba(135,206,250, 0.9)",
         "line": {
          "color": "rgba(135,206,250, 0.9)"
         },
         "marker": {
          "opacity": 0
         },
         "meta": {
          "name": "Up polarity"
         },
         "showlegend": false,
         "type": "scatter",
         "x": [
          20,
          726.156,
          726.156,
          20,
          20
         ],
         "y": [
          -209,
          -199,
          -55,
          -55,
          -209
         ]
        },
        {
         "line": {
          "color": "black",
          "dash": "dash"
         },
         "mode": "lines",
         "showlegend": false,
         "type": "scatter",
         "x": [
          null
         ],
         "y": [
          null
         ]
        },
        {
         "line": {
          "color": "purple",
          "dash": "solid"
         },
         "mode": "lines",
         "showlegend": false,
         "type": "scatter",
         "x": [
          null
         ],
         "y": [
          null
         ]
        }
       ],
       "layout": {
        "annotations": [
         {
          "align": "left",
          "font": {
           "size": 22
          },
          "showarrow": false,
          "text": "<span style='color:black;'>─ ─ 30 GeV muon</span><br><span style='color:purple;'>─ ─ 150 GeV muon</span><br><span style='color:red;'>■ direct field</span><br><span style='color:lightblue;'>■ inverse field</span><br><span style='color:green;'>■ possible MTC locations</span>",
          "x": 0.55,
          "xref": "paper",
          "y": 0.99,
          "yref": "paper"
         }
        ],
        "barmode": "group",
        "font": {
         "size": 22
        },
        "height": 600,
        "plot_bgcolor": "white",
        "template": {
         "data": {
          "bar": [
           {
            "error_x": {
             "color": "#2a3f5f"
            },
            "error_y": {
             "color": "#2a3f5f"
            },
            "marker": {
             "line": {
              "color": "#E5ECF6",
              "width": 0.5
             },
             "pattern": {
              "fillmode": "overlay",
              "size": 10,
              "solidity": 0.2
             }
            },
            "type": "bar"
           }
          ],
          "barpolar": [
           {
            "marker": {
             "line": {
              "color": "#E5ECF6",
              "width": 0.5
             },
             "pattern": {
              "fillmode": "overlay",
              "size": 10,
              "solidity": 0.2
             }
            },
            "type": "barpolar"
           }
          ],
          "carpet": [
           {
            "aaxis": {
             "endlinecolor": "#2a3f5f",
             "gridcolor": "white",
             "linecolor": "white",
             "minorgridcolor": "white",
             "startlinecolor": "#2a3f5f"
            },
            "baxis": {
             "endlinecolor": "#2a3f5f",
             "gridcolor": "white",
             "linecolor": "white",
             "minorgridcolor": "white",
             "startlinecolor": "#2a3f5f"
            },
            "type": "carpet"
           }
          ],
          "choropleth": [
           {
            "colorbar": {
             "outlinewidth": 0,
             "ticks": ""
            },
            "type": "choropleth"
           }
          ],
          "contour": [
           {
            "colorbar": {
             "outlinewidth": 0,
             "ticks": ""
            },
            "colorscale": [
             [
              0,
              "#0d0887"
             ],
             [
              0.1111111111111111,
              "#46039f"
             ],
             [
              0.2222222222222222,
              "#7201a8"
             ],
             [
              0.3333333333333333,
              "#9c179e"
             ],
             [
              0.4444444444444444,
              "#bd3786"
             ],
             [
              0.5555555555555556,
              "#d8576b"
             ],
             [
              0.6666666666666666,
              "#ed7953"
             ],
             [
              0.7777777777777778,
              "#fb9f3a"
             ],
             [
              0.8888888888888888,
              "#fdca26"
             ],
             [
              1,
              "#f0f921"
             ]
            ],
            "type": "contour"
           }
          ],
          "contourcarpet": [
           {
            "colorbar": {
             "outlinewidth": 0,
             "ticks": ""
            },
            "type": "contourcarpet"
           }
          ],
          "heatmap": [
           {
            "colorbar": {
             "outlinewidth": 0,
             "ticks": ""
            },
            "colorscale": [
             [
              0,
              "#0d0887"
             ],
             [
              0.1111111111111111,
              "#46039f"
             ],
             [
              0.2222222222222222,
              "#7201a8"
             ],
             [
              0.3333333333333333,
              "#9c179e"
             ],
             [
              0.4444444444444444,
              "#bd3786"
             ],
             [
              0.5555555555555556,
              "#d8576b"
             ],
             [
              0.6666666666666666,
              "#ed7953"
             ],
             [
              0.7777777777777778,
              "#fb9f3a"
             ],
             [
              0.8888888888888888,
              "#fdca26"
             ],
             [
              1,
              "#f0f921"
             ]
            ],
            "type": "heatmap"
           }
          ],
          "heatmapgl": [
           {
            "colorbar": {
             "outlinewidth": 0,
             "ticks": ""
            },
            "colorscale": [
             [
              0,
              "#0d0887"
             ],
             [
              0.1111111111111111,
              "#46039f"
             ],
             [
              0.2222222222222222,
              "#7201a8"
             ],
             [
              0.3333333333333333,
              "#9c179e"
             ],
             [
              0.4444444444444444,
              "#bd3786"
             ],
             [
              0.5555555555555556,
              "#d8576b"
             ],
             [
              0.6666666666666666,
              "#ed7953"
             ],
             [
              0.7777777777777778,
              "#fb9f3a"
             ],
             [
              0.8888888888888888,
              "#fdca26"
             ],
             [
              1,
              "#f0f921"
             ]
            ],
            "type": "heatmapgl"
           }
          ],
          "histogram": [
           {
            "marker": {
             "pattern": {
              "fillmode": "overlay",
              "size": 10,
              "solidity": 0.2
             }
            },
            "type": "histogram"
           }
          ],
          "histogram2d": [
           {
            "colorbar": {
             "outlinewidth": 0,
             "ticks": ""
            },
            "colorscale": [
             [
              0,
              "#0d0887"
             ],
             [
              0.1111111111111111,
              "#46039f"
             ],
             [
              0.2222222222222222,
              "#7201a8"
             ],
             [
              0.3333333333333333,
              "#9c179e"
             ],
             [
              0.4444444444444444,
              "#bd3786"
             ],
             [
              0.5555555555555556,
              "#d8576b"
             ],
             [
              0.6666666666666666,
              "#ed7953"
             ],
             [
              0.7777777777777778,
              "#fb9f3a"
             ],
             [
              0.8888888888888888,
              "#fdca26"
             ],
             [
              1,
              "#f0f921"
             ]
            ],
            "type": "histogram2d"
           }
          ],
          "histogram2dcontour": [
           {
            "colorbar": {
             "outlinewidth": 0,
             "ticks": ""
            },
            "colorscale": [
             [
              0,
              "#0d0887"
             ],
             [
              0.1111111111111111,
              "#46039f"
             ],
             [
              0.2222222222222222,
              "#7201a8"
             ],
             [
              0.3333333333333333,
              "#9c179e"
             ],
             [
              0.4444444444444444,
              "#bd3786"
             ],
             [
              0.5555555555555556,
              "#d8576b"
             ],
             [
              0.6666666666666666,
              "#ed7953"
             ],
             [
              0.7777777777777778,
              "#fb9f3a"
             ],
             [
              0.8888888888888888,
              "#fdca26"
             ],
             [
              1,
              "#f0f921"
             ]
            ],
            "type": "histogram2dcontour"
           }
          ],
          "mesh3d": [
           {
            "colorbar": {
             "outlinewidth": 0,
             "ticks": ""
            },
            "type": "mesh3d"
           }
          ],
          "parcoords": [
           {
            "line": {
             "colorbar": {
              "outlinewidth": 0,
              "ticks": ""
             }
            },
            "type": "parcoords"
           }
          ],
          "pie": [
           {
            "automargin": true,
            "type": "pie"
           }
          ],
          "scatter": [
           {
            "fillpattern": {
             "fillmode": "overlay",
             "size": 10,
             "solidity": 0.2
            },
            "type": "scatter"
           }
          ],
          "scatter3d": [
           {
            "line": {
             "colorbar": {
              "outlinewidth": 0,
              "ticks": ""
             }
            },
            "marker": {
             "colorbar": {
              "outlinewidth": 0,
              "ticks": ""
             }
            },
            "type": "scatter3d"
           }
          ],
          "scattercarpet": [
           {
            "marker": {
             "colorbar": {
              "outlinewidth": 0,
              "ticks": ""
             }
            },
            "type": "scattercarpet"
           }
          ],
          "scattergeo": [
           {
            "marker": {
             "colorbar": {
              "outlinewidth": 0,
              "ticks": ""
             }
            },
            "type": "scattergeo"
           }
          ],
          "scattergl": [
           {
            "marker": {
             "colorbar": {
              "outlinewidth": 0,
              "ticks": ""
             }
            },
            "type": "scattergl"
           }
          ],
          "scattermapbox": [
           {
            "marker": {
             "colorbar": {
              "outlinewidth": 0,
              "ticks": ""
             }
            },
            "type": "scattermapbox"
           }
          ],
          "scatterpolar": [
           {
            "marker": {
             "colorbar": {
              "outlinewidth": 0,
              "ticks": ""
             }
            },
            "type": "scatterpolar"
           }
          ],
          "scatterpolargl": [
           {
            "marker": {
             "colorbar": {
              "outlinewidth": 0,
              "ticks": ""
             }
            },
            "type": "scatterpolargl"
           }
          ],
          "scatterternary": [
           {
            "marker": {
             "colorbar": {
              "outlinewidth": 0,
              "ticks": ""
             }
            },
            "type": "scatterternary"
           }
          ],
          "surface": [
           {
            "colorbar": {
             "outlinewidth": 0,
             "ticks": ""
            },
            "colorscale": [
             [
              0,
              "#0d0887"
             ],
             [
              0.1111111111111111,
              "#46039f"
             ],
             [
              0.2222222222222222,
              "#7201a8"
             ],
             [
              0.3333333333333333,
              "#9c179e"
             ],
             [
              0.4444444444444444,
              "#bd3786"
             ],
             [
              0.5555555555555556,
              "#d8576b"
             ],
             [
              0.6666666666666666,
              "#ed7953"
             ],
             [
              0.7777777777777778,
              "#fb9f3a"
             ],
             [
              0.8888888888888888,
              "#fdca26"
             ],
             [
              1,
              "#f0f921"
             ]
            ],
            "type": "surface"
           }
          ],
          "table": [
           {
            "cells": {
             "fill": {
              "color": "#EBF0F8"
             },
             "line": {
              "color": "white"
             }
            },
            "header": {
             "fill": {
              "color": "#C8D4E3"
             },
             "line": {
              "color": "white"
             }
            },
            "type": "table"
           }
          ]
         },
         "layout": {
          "annotationdefaults": {
           "arrowcolor": "#2a3f5f",
           "arrowhead": 0,
           "arrowwidth": 1
          },
          "autotypenumbers": "strict",
          "coloraxis": {
           "colorbar": {
            "outlinewidth": 0,
            "ticks": ""
           }
          },
          "colorscale": {
           "diverging": [
            [
             0,
             "#8e0152"
            ],
            [
             0.1,
             "#c51b7d"
            ],
            [
             0.2,
             "#de77ae"
            ],
            [
             0.3,
             "#f1b6da"
            ],
            [
             0.4,
             "#fde0ef"
            ],
            [
             0.5,
             "#f7f7f7"
            ],
            [
             0.6,
             "#e6f5d0"
            ],
            [
             0.7,
             "#b8e186"
            ],
            [
             0.8,
             "#7fbc41"
            ],
            [
             0.9,
             "#4d9221"
            ],
            [
             1,
             "#276419"
            ]
           ],
           "sequential": [
            [
             0,
             "#0d0887"
            ],
            [
             0.1111111111111111,
             "#46039f"
            ],
            [
             0.2222222222222222,
             "#7201a8"
            ],
            [
             0.3333333333333333,
             "#9c179e"
            ],
            [
             0.4444444444444444,
             "#bd3786"
            ],
            [
             0.5555555555555556,
             "#d8576b"
            ],
            [
             0.6666666666666666,
             "#ed7953"
            ],
            [
             0.7777777777777778,
             "#fb9f3a"
            ],
            [
             0.8888888888888888,
             "#fdca26"
            ],
            [
             1,
             "#f0f921"
            ]
           ],
           "sequentialminus": [
            [
             0,
             "#0d0887"
            ],
            [
             0.1111111111111111,
             "#46039f"
            ],
            [
             0.2222222222222222,
             "#7201a8"
            ],
            [
             0.3333333333333333,
             "#9c179e"
            ],
            [
             0.4444444444444444,
             "#bd3786"
            ],
            [
             0.5555555555555556,
             "#d8576b"
            ],
            [
             0.6666666666666666,
             "#ed7953"
            ],
            [
             0.7777777777777778,
             "#fb9f3a"
            ],
            [
             0.8888888888888888,
             "#fdca26"
            ],
            [
             1,
             "#f0f921"
            ]
           ]
          },
          "colorway": [
           "#636efa",
           "#EF553B",
           "#00cc96",
           "#ab63fa",
           "#FFA15A",
           "#19d3f3",
           "#FF6692",
           "#B6E880",
           "#FF97FF",
           "#FECB52"
          ],
          "font": {
           "color": "#2a3f5f"
          },
          "geo": {
           "bgcolor": "white",
           "lakecolor": "white",
           "landcolor": "#E5ECF6",
           "showlakes": true,
           "showland": true,
           "subunitcolor": "white"
          },
          "hoverlabel": {
           "align": "left"
          },
          "hovermode": "closest",
          "mapbox": {
           "style": "light"
          },
          "paper_bgcolor": "white",
          "plot_bgcolor": "#E5ECF6",
          "polar": {
           "angularaxis": {
            "gridcolor": "white",
            "linecolor": "white",
            "ticks": ""
           },
           "bgcolor": "#E5ECF6",
           "radialaxis": {
            "gridcolor": "white",
            "linecolor": "white",
            "ticks": ""
           }
          },
          "scene": {
           "xaxis": {
            "backgroundcolor": "#E5ECF6",
            "gridcolor": "white",
            "gridwidth": 2,
            "linecolor": "white",
            "showbackground": true,
            "ticks": "",
            "zerolinecolor": "white"
           },
           "yaxis": {
            "backgroundcolor": "#E5ECF6",
            "gridcolor": "white",
            "gridwidth": 2,
            "linecolor": "white",
            "showbackground": true,
            "ticks": "",
            "zerolinecolor": "white"
           },
           "zaxis": {
            "backgroundcolor": "#E5ECF6",
            "gridcolor": "white",
            "gridwidth": 2,
            "linecolor": "white",
            "showbackground": true,
            "ticks": "",
            "zerolinecolor": "white"
           }
          },
          "shapedefaults": {
           "line": {
            "color": "#2a3f5f"
           }
          },
          "ternary": {
           "aaxis": {
            "gridcolor": "white",
            "linecolor": "white",
            "ticks": ""
           },
           "baxis": {
            "gridcolor": "white",
            "linecolor": "white",
            "ticks": ""
           },
           "bgcolor": "#E5ECF6",
           "caxis": {
            "gridcolor": "white",
            "linecolor": "white",
            "ticks": ""
           }
          },
          "title": {
           "x": 0.05
          },
          "xaxis": {
           "automargin": true,
           "gridcolor": "white",
           "linecolor": "white",
           "ticks": "",
           "title": {
            "standoff": 15
           },
           "zerolinecolor": "white",
           "zerolinewidth": 2
          },
          "yaxis": {
           "automargin": true,
           "gridcolor": "white",
           "linecolor": "white",
           "ticks": "",
           "title": {
            "standoff": 15
           },
           "zerolinecolor": "white",
           "zerolinewidth": 2
          }
         }
        },
        "width": 1200,
        "xaxis": {
         "gridcolor": "lightgrey",
         "linecolor": "black",
         "mirror": true,
         "range": [
          10,
          2110
         ],
         "showline": true,
         "ticks": "outside",
         "title": {
          "text": "Z [cm]"
         },
         "type": "linear"
        },
        "yaxis": {
         "gridcolor": "lightgrey",
         "linecolor": "black",
         "mirror": true,
         "range": [
          -400,
          400
         ],
         "showline": true,
         "ticks": "outside",
         "title": {
          "text": "X [cm]"
         },
         "type": "linear"
        }
       }
      },
      "image/png": "[encoded data removed]",
      "text/html": [
       "<div>                            <div id=\"d38dc89d-1f6c-4482-9dc9-69588084a1ec\" class=\"plotly-graph-div\" style=\"height:600px; width:1200px;\"></div>            <script type=\"text/javascript\">                require([\"plotly\"], function(Plotly) {                    window.PLOTLYENV=window.PLOTLYENV || {};                                    if (document.getElementById(\"d38dc89d-1f6c-4482-9dc9-69588084a1ec\")) {                    Plotly.newPlot(                        \"d38dc89d-1f6c-4482-9dc9-69588084a1ec\",                        [{\"fill\":\"toself\",\"fillcolor\":\"rgba(255,99,71, 0.8)\",\"line\":{\"color\":\"rgba(255,99,71, 0.8)\"},\"marker\":{\"opacity\":0},\"meta\":{\"name\":\"Up polarity\"},\"showlegend\":false,\"x\":[10,10,10,10,10,null,20,20,726.156,726.156,20],\"y\":[-154,154,109,-109,-154,null,-209.7615,209.7615,199.0,-199.0,-209.7615],\"type\":\"scatter\"},{\"fill\":\"toself\",\"fillcolor\":\"rgba(255,99,71, 0.8)\",\"line\":{\"color\":\"rgba(255,99,71, 0.8)\"},\"marker\":{\"opacity\":0},\"meta\":{\"name\":\"Up polarity\"},\"showlegend\":false,\"x\":[null,996.3219999999999,996.3219999999999,1365.9899999999998,1365.9899999999998,996.3219999999999,null,1375.9899999999998,1375.9899999999998,1676.3759999999997,1676.3759999999997,1375.9899999999998,null,1686.3759999999997,1686.3759999999997,2060.0,2060.0,1686.3759999999997,null],\"y\":[null,-65.3913,65.3913,114.30709999999999,-114.30709999999999,-65.3913,null,-8,8,204.8004,-204.8004,-8,null,-52.8285,52.8285,202,-202,-52.8285,null],\"type\":\"scatter\"},{\"fill\":\"toself\",\"fillcolor\":\"rgba(168, 235, 203, 0.5)\",\"line\":{\"color\":\"rgba(168, 235, 203, 0.5)\"},\"marker\":{\"opacity\":0},\"showlegend\":false,\"x\":[10,10,10,10,10,null,20,20,726.156,726.156,20,null,996.3219999999999,996.3219999999999,1365.9899999999998,1365.9899999999998,996.3219999999999,null,1375.9899999999998,1375.9899999999998,1676.3759999999997,1676.3759999999997,1375.9899999999998,null,1686.3759999999997,1686.3759999999997,2060.0,2060.0,1686.3759999999997,null],\"y\":[72,82,58,51,72,null,45.6888,72.6951,61.9336,45.6888,45.6888,null,24.7961,40.5952,65.5432,48.7639,24.7961,null,3,5,104.8004,100,3,null,3,49.8285,102,100,3,null],\"type\":\"scatter\"},{\"fill\":\"toself\",\"fillcolor\":\"rgba(168, 235, 203, 0.5)\",\"line\":{\"color\":\"rgba(168, 235, 203, 0.5)\"},\"marker\":{\"opacity\":0},\"showlegend\":false,\"x\":[10,10,10,10,10,null,20,20,726.156,726.156,20,null,996.3219999999999,996.3219999999999,1365.9899999999998,1365.9899999999998,996.3219999999999,null,1375.9899999999998,1375.9899999999998,1676.3759999999997,1676.3759999999997,1375.9899999999998,null,1686.3759999999997,1686.3759999999997,2060.0,2060.0,1686.3759999999997,null],\"y\":[-72,-82,-58,-51,-72,null,-45.6888,-72.6951,-61.9336,-45.6888,-45.6888,null,-24.7961,-40.5952,-65.5432,-48.7639,-24.7961,null,-3,-5,-104.8004,-100,-3,null,-3,-49.8285,-102,-100,-3,null],\"type\":\"scatter\"},{\"fill\":\"toself\",\"fillcolor\":\"rgba(135,206,250, 0.9)\",\"line\":{\"color\":\"rgba(135,206,250, 0.9)\"},\"marker\":{\"opacity\":0},\"meta\":{\"name\":\"Up polarity\"},\"showlegend\":false,\"x\":[996.322,996.322,1365.99,1365.99,996.322],\"y\":[-25,25,45,-45,-25],\"type\":\"scatter\"},{\"fill\":\"toself\",\"fillcolor\":\"green\",\"line\":{\"color\":\"green\"},\"marker\":{\"opacity\":0},\"meta\":{\"name\":\"Up polarity\"},\"showlegend\":false,\"x\":[996.322,996.322,1365.99,1365.99,996.322],\"y\":[-25,25,25,-25,-25],\"type\":\"scatter\"},{\"fill\":\"toself\",\"fillcolor\":\"rgba(135,206,250, 0.9)\",\"line\":{\"color\":\"rgba(135,206,250, 0.9)\"},\"marker\":{\"opacity\":0},\"meta\":{\"name\":\"Up polarity\"},\"showlegend\":false,\"x\":[1375.99,1375.99,1676.376,1676.376,1375.99],\"y\":[-2,2,98,-98,-4],\"type\":\"scatter\"},{\"fill\":\"toself\",\"fillcolor\":\"green\",\"line\":{\"color\":\"green\"},\"marker\":{\"opacity\":0},\"meta\":{\"name\":\"Up polarity\"},\"showlegend\":false,\"x\":[1405.0,1405.0,1676.376,1676.376,1405.0],\"y\":[-25,25,25,-25,-25],\"type\":\"scatter\"},{\"fill\":\"toself\",\"fillcolor\":\"rgba(135,206,250, 0.9)\",\"line\":{\"color\":\"rgba(135,206,250, 0.9)\"},\"marker\":{\"opacity\":0},\"meta\":{\"name\":\"Up polarity\"},\"showlegend\":false,\"x\":[1686.376,1686.376,2060,2060,1686.376],\"y\":[0,0,96,-96,0],\"type\":\"scatter\"},{\"fill\":\"toself\",\"fillcolor\":\"green\",\"line\":{\"color\":\"green\"},\"marker\":{\"opacity\":0},\"meta\":{\"name\":\"Up polarity\"},\"showlegend\":false,\"x\":[1686.376,1686.376,2060,2060,1686.376],\"y\":[-25,25,25,-25,-25],\"type\":\"scatter\"},{\"fill\":\"toself\",\"fillcolor\":\"rgba(135,206,250, 0.9)\",\"line\":{\"color\":\"rgba(135,206,250, 0.9)\"},\"marker\":{\"opacity\":0},\"meta\":{\"name\":\"Up polarity\"},\"showlegend\":false,\"x\":[20,726.156,726.156,20,20],\"y\":[209,199,55,55,209],\"type\":\"scatter\"},{\"fill\":\"toself\",\"fillcolor\":\"rgba(135,206,250, 0.9)\",\"line\":{\"color\":\"rgba(135,206,250, 0.9)\"},\"marker\":{\"opacity\":0},\"meta\":{\"name\":\"Up polarity\"},\"showlegend\":false,\"x\":[20,726.156,726.156,20,20],\"y\":[-209,-199,-55,-55,-209],\"type\":\"scatter\"},{\"line\":{\"color\":\"black\",\"dash\":\"dash\"},\"mode\":\"lines\",\"showlegend\":false,\"x\":[null],\"y\":[null],\"type\":\"scatter\"},{\"line\":{\"color\":\"purple\",\"dash\":\"solid\"},\"mode\":\"lines\",\"showlegend\":false,\"x\":[null],\"y\":[null],\"type\":\"scatter\"}],                        {\"template\":{\"data\":{\"histogram2dcontour\":[{\"type\":\"histogram2dcontour\",\"colorbar\":{\"outlinewidth\":0,\"ticks\":\"\"},\"colorscale\":[[0.0,\"#0d0887\"],[0.1111111111111111,\"#46039f\"],[0.2222222222222222,\"#7201a8\"],[0.3333333333333333,\"#9c179e\"],[0.4444444444444444,\"#bd3786\"],[0.5555555555555556,\"#d8576b\"],[0.6666666666666666,\"#ed7953\"],[0.7777777777777778,\"#fb9f3a\"],[0.8888888888888888,\"#fdca26\"],[1.0,\"#f0f921\"]]}],\"choropleth\":[{\"type\":\"choropleth\",\"colorbar\":{\"outlinewidth\":0,\"ticks\":\"\"}}],\"histogram2d\":[{\"type\":\"histogram2d\",\"colorbar\":{\"outlinewidth\":0,\"ticks\":\"\"},\"colorscale\":[[0.0,\"#0d0887\"],[0.1111111111111111,\"#46039f\"],[0.2222222222222222,\"#7201a8\"],[0.3333333333333333,\"#9c179e\"],[0.4444444444444444,\"#bd3786\"],[0.5555555555555556,\"#d8576b\"],[0.6666666666666666,\"#ed7953\"],[0.7777777777777778,\"#fb9f3a\"],[0.8888888888888888,\"#fdca26\"],[1.0,\"#f0f921\"]]}],\"heatmap\":[{\"type\":\"heatmap\",\"colorbar\":{\"outlinewidth\":0,\"ticks\":\"\"},\"colorscale\":[[0.0,\"#0d0887\"],[0.1111111111111111,\"#46039f\"],[0.2222222222222222,\"#7201a8\"],[0.3333333333333333,\"#9c179e\"],[0.4444444444444444,\"#bd3786\"],[0.5555555555555556,\"#d8576b\"],[0.6666666666666666,\"#ed7953\"],[0.7777777777777778,\"#fb9f3a\"],[0.8888888888888888,\"#fdca26\"],[1.0,\"#f0f921\"]]}],\"heatmapgl\":[{\"type\":\"heatmapgl\",\"colorbar\":{\"outlinewidth\":0,\"ticks\":\"\"},\"colorscale\":[[0.0,\"#0d0887\"],[0.1111111111111111,\"#46039f\"],[0.2222222222222222,\"#7201a8\"],[0.3333333333333333,\"#9c179e\"],[0.4444444444444444,\"#bd3786\"],[0.5555555555555556,\"#d8576b\"],[0.6666666666666666,\"#ed7953\"],[0.7777777777777778,\"#fb9f3a\"],[0.8888888888888888,\"#fdca26\"],[1.0,\"#f0f921\"]]}],\"contourcarpet\":[{\"type\":\"contourcarpet\",\"colorbar\":{\"outlinewidth\":0,\"ticks\":\"\"}}],\"contour\":[{\"type\":\"contour\",\"colorbar\":{\"outlinewidth\":0,\"ticks\":\"\"},\"colorscale\":[[0.0,\"#0d0887\"],[0.1111111111111111,\"#46039f\"],[0.2222222222222222,\"#7201a8\"],[0.3333333333333333,\"#9c179e\"],[0.4444444444444444,\"#bd3786\"],[0.5555555555555556,\"#d8576b\"],[0.6666666666666666,\"#ed7953\"],[0.7777777777777778,\"#fb9f3a\"],[0.8888888888888888,\"#fdca26\"],[1.0,\"#f0f921\"]]}],\"surface\":[{\"type\":\"surface\",\"colorbar\":{\"outlinewidth\":0,\"ticks\":\"\"},\"colorscale\":[[0.0,\"#0d0887\"],[0.1111111111111111,\"#46039f\"],[0.2222222222222222,\"#7201a8\"],[0.3333333333333333,\"#9c179e\"],[0.4444444444444444,\"#bd3786\"],[0.5555555555555556,\"#d8576b\"],[0.6666666666666666,\"#ed7953\"],[0.7777777777777778,\"#fb9f3a\"],[0.8888888888888888,\"#fdca26\"],[1.0,\"#f0f921\"]]}],\"mesh3d\":[{\"type\":\"mesh3d\",\"colorbar\":{\"outlinewidth\":0,\"ticks\":\"\"}}],\"scatter\":[{\"fillpattern\":{\"fillmode\":\"overlay\",\"size\":10,\"solidity\":0.2},\"type\":\"scatter\"}],\"parcoords\":[{\"type\":\"parcoords\",\"line\":{\"colorbar\":{\"outlinewidth\":0,\"ticks\":\"\"}}}],\"scatterpolargl\":[{\"type\":\"scatterpolargl\",\"marker\":{\"colorbar\":{\"outlinewidth\":0,\"ticks\":\"\"}}}],\"bar\":[{\"error_x\":{\"color\":\"#2a3f5f\"},\"error_y\":{\"color\":\"#2a3f5f\"},\"marker\":{\"line\":{\"color\":\"#E5ECF6\",\"width\":0.5},\"pattern\":{\"fillmode\":\"overlay\",\"size\":10,\"solidity\":0.2}},\"type\":\"bar\"}],\"scattergeo\":[{\"type\":\"scattergeo\",\"marker\":{\"colorbar\":{\"outlinewidth\":0,\"ticks\":\"\"}}}],\"scatterpolar\":[{\"type\":\"scatterpolar\",\"marker\":{\"colorbar\":{\"outlinewidth\":0,\"ticks\":\"\"}}}],\"histogram\":[{\"marker\":{\"pattern\":{\"fillmode\":\"overlay\",\"size\":10,\"solidity\":0.2}},\"type\":\"histogram\"}],\"scattergl\":[{\"type\":\"scattergl\",\"marker\":{\"colorbar\":{\"outlinewidth\":0,\"ticks\":\"\"}}}],\"scatter3d\":[{\"type\":\"scatter3d\",\"line\":{\"colorbar\":{\"outlinewidth\":0,\"ticks\":\"\"}},\"marker\":{\"colorbar\":{\"outlinewidth\":0,\"ticks\":\"\"}}}],\"scattermapbox\":[{\"type\":\"scattermapbox\",\"marker\":{\"colorbar\":{\"outlinewidth\":0,\"ticks\":\"\"}}}],\"scatterternary\":[{\"type\":\"scatterternary\",\"marker\":{\"colorbar\":{\"outlinewidth\":0,\"ticks\":\"\"}}}],\"scattercarpet\":[{\"type\":\"scattercarpet\",\"marker\":{\"colorbar\":{\"outlinewidth\":0,\"ticks\":\"\"}}}],\"carpet\":[{\"aaxis\":{\"endlinecolor\":\"#2a3f5f\",\"gridcolor\":\"white\",\"linecolor\":\"white\",\"minorgridcolor\":\"white\",\"startlinecolor\":\"#2a3f5f\"},\"baxis\":{\"endlinecolor\":\"#2a3f5f\",\"gridcolor\":\"white\",\"linecolor\":\"white\",\"minorgridcolor\":\"white\",\"startlinecolor\":\"#2a3f5f\"},\"type\":\"carpet\"}],\"table\":[{\"cells\":{\"fill\":{\"color\":\"#EBF0F8\"},\"line\":{\"color\":\"white\"}},\"header\":{\"fill\":{\"color\":\"#C8D4E3\"},\"line\":{\"color\":\"white\"}},\"type\":\"table\"}],\"barpolar\":[{\"marker\":{\"line\":{\"color\":\"#E5ECF6\",\"width\":0.5},\"pattern\":{\"fillmode\":\"overlay\",\"size\":10,\"solidity\":0.2}},\"type\":\"barpolar\"}],\"pie\":[{\"automargin\":true,\"type\":\"pie\"}]},\"layout\":{\"autotypenumbers\":\"strict\",\"colorway\":[\"#636efa\",\"#EF553B\",\"#00cc96\",\"#ab63fa\",\"#FFA15A\",\"#19d3f3\",\"#FF6692\",\"#B6E880\",\"#FF97FF\",\"#FECB52\"],\"font\":{\"color\":\"#2a3f5f\"},\"hovermode\":\"closest\",\"hoverlabel\":{\"align\":\"left\"},\"paper_bgcolor\":\"white\",\"plot_bgcolor\":\"#E5ECF6\",\"polar\":{\"bgcolor\":\"#E5ECF6\",\"angularaxis\":{\"gridcolor\":\"white\",\"linecolor\":\"white\",\"ticks\":\"\"},\"radialaxis\":{\"gridcolor\":\"white\",\"linecolor\":\"white\",\"ticks\":\"\"}},\"ternary\":{\"bgcolor\":\"#E5ECF6\",\"aaxis\":{\"gridcolor\":\"white\",\"linecolor\":\"white\",\"ticks\":\"\"},\"baxis\":{\"gridcolor\":\"white\",\"linecolor\":\"white\",\"ticks\":\"\"},\"caxis\":{\"gridcolor\":\"white\",\"linecolor\":\"white\",\"ticks\":\"\"}},\"coloraxis\":{\"colorbar\":{\"outlinewidth\":0,\"ticks\":\"\"}},\"colorscale\":{\"sequential\":[[0.0,\"#0d0887\"],[0.1111111111111111,\"#46039f\"],[0.2222222222222222,\"#7201a8\"],[0.3333333333333333,\"#9c179e\"],[0.4444444444444444,\"#bd3786\"],[0.5555555555555556,\"#d8576b\"],[0.6666666666666666,\"#ed7953\"],[0.7777777777777778,\"#fb9f3a\"],[0.8888888888888888,\"#fdca26\"],[1.0,\"#f0f921\"]],\"sequentialminus\":[[0.0,\"#0d0887\"],[0.1111111111111111,\"#46039f\"],[0.2222222222222222,\"#7201a8\"],[0.3333333333333333,\"#9c179e\"],[0.4444444444444444,\"#bd3786\"],[0.5555555555555556,\"#d8576b\"],[0.6666666666666666,\"#ed7953\"],[0.7777777777777778,\"#fb9f3a\"],[0.8888888888888888,\"#fdca26\"],[1.0,\"#f0f921\"]],\"diverging\":[[0,\"#8e0152\"],[0.1,\"#c51b7d\"],[0.2,\"#de77ae\"],[0.3,\"#f1b6da\"],[0.4,\"#fde0ef\"],[0.5,\"#f7f7f7\"],[0.6,\"#e6f5d0\"],[0.7,\"#b8e186\"],[0.8,\"#7fbc41\"],[0.9,\"#4d9221\"],[1,\"#276419\"]]},\"xaxis\":{\"gridcolor\":\"white\",\"linecolor\":\"white\",\"ticks\":\"\",\"title\":{\"standoff\":15},\"zerolinecolor\":\"white\",\"automargin\":true,\"zerolinewidth\":2},\"yaxis\":{\"gridcolor\":\"white\",\"linecolor\":\"white\",\"ticks\":\"\",\"title\":{\"standoff\":15},\"zerolinecolor\":\"white\",\"automargin\":true,\"zerolinewidth\":2},\"scene\":{\"xaxis\":{\"backgroundcolor\":\"#E5ECF6\",\"gridcolor\":\"white\",\"linecolor\":\"white\",\"showbackground\":true,\"ticks\":\"\",\"zerolinecolor\":\"white\",\"gridwidth\":2},\"yaxis\":{\"backgroundcolor\":\"#E5ECF6\",\"gridcolor\":\"white\",\"linecolor\":\"white\",\"showbackground\":true,\"ticks\":\"\",\"zerolinecolor\":\"white\",\"gridwidth\":2},\"zaxis\":{\"backgroundcolor\":\"#E5ECF6\",\"gridcolor\":\"white\",\"linecolor\":\"white\",\"showbackground\":true,\"ticks\":\"\",\"zerolinecolor\":\"white\",\"gridwidth\":2}},\"shapedefaults\":{\"line\":{\"color\":\"#2a3f5f\"}},\"annotationdefaults\":{\"arrowcolor\":\"#2a3f5f\",\"arrowhead\":0,\"arrowwidth\":1},\"geo\":{\"bgcolor\":\"white\",\"landcolor\":\"#E5ECF6\",\"subunitcolor\":\"white\",\"showland\":true,\"showlakes\":true,\"lakecolor\":\"white\"},\"title\":{\"x\":0.05},\"mapbox\":{\"style\":\"light\"}}},\"xaxis\":{\"title\":{\"text\":\"Z [cm]\"},\"range\":[10.0,2110.0],\"mirror\":true,\"ticks\":\"outside\",\"showline\":true,\"linecolor\":\"black\",\"gridcolor\":\"lightgrey\"},\"yaxis\":{\"title\":{\"text\":\"X [cm]\"},\"range\":[-400,400],\"mirror\":true,\"ticks\":\"outside\",\"showline\":true,\"linecolor\":\"black\",\"gridcolor\":\"lightgrey\"},\"annotations\":[{\"align\":\"left\",\"font\":{\"size\":22},\"showarrow\":false,\"text\":\"\\u003cspan style='color:black;'\\u003e\\u2500 \\u2500 30 GeV muon\\u003c\\u002fspan\\u003e\\u003cbr\\u003e\\u003cspan style='color:purple;'\\u003e\\u2500 \\u2500 150 GeV muon\\u003c\\u002fspan\\u003e\\u003cbr\\u003e\\u003cspan style='color:red;'\\u003e\\u25a0 direct field\\u003c\\u002fspan\\u003e\\u003cbr\\u003e\\u003cspan style='color:lightblue;'\\u003e\\u25a0 inverse field\\u003c\\u002fspan\\u003e\\u003cbr\\u003e\\u003cspan style='color:green;'\\u003e\\u25a0 possible MTC locations\\u003c\\u002fspan\\u003e\",\"x\":0.55,\"xref\":\"paper\",\"y\":0.99,\"yref\":\"paper\"}],\"font\":{\"size\":22},\"width\":1200,\"height\":600,\"plot_bgcolor\":\"white\",\"barmode\":\"group\"},                        {\"responsive\": true}                    ).then(function(){\n",
       "                            \n",
       "var gd = document.getElementById('d38dc89d-1f6c-4482-9dc9-69588084a1ec');\n",
       "var x = new MutationObserver(function (mutations, observer) {{\n",
       "        var display = window.getComputedStyle(gd).display;\n",
       "        if (!display || display === 'none') {{\n",
       "            console.log([gd, 'removed!']);\n",
       "            Plotly.purge(gd);\n",
       "            observer.disconnect();\n",
       "        }}\n",
       "}});\n",
       "\n",
       "// Listen for the removal of the full notebook cells\n",
       "var notebookContainer = gd.closest('#notebook-container');\n",
       "if (notebookContainer) {{\n",
       "    x.observe(notebookContainer, {childList: true});\n",
       "}}\n",
       "\n",
       "// Listen for the clearing of the current output cell\n",
       "var outputEl = gd.closest('.output');\n",
       "if (outputEl) {{\n",
       "    x.observe(outputEl, {childList: true});\n",
       "}}\n",
       "\n",
       "                        })                };                });            </script>        </div>"
      ]
     },
     "metadata": {},
     "output_type": "display_data"
    }
   ],
   "source": [
    "shield = [70,170,0,353.078,125.083,184.834,150.193,186.812,40,40,150,150,2,2,80,80,150,150,2,2,72,51,29,46,10,7,45.6888,45.6888,22.1839,22.1839,27.0063,16.2448,10,31,35,31,51,11,24.7961,48.7639,8,104.732,15.7991,16.7793,3,100,192,192,2,4.8004,3,100,8,172.729,46.8285,2]\n",
    "is_sc = True\n",
    "fig = go.Figure()\n",
    "\n",
    "plot_shield_from_verts_part(plot_arrays_from_params(shield, is_sc = is_sc), is_sc, 0, fig, 1, 1)\n",
    "# plot_shield_from_verts_part(plot_arrays_from_params(shield, is_sc = is_sc), is_sc, 1, fig, 2, 1)\n",
    "\n",
    "\n",
    "import plotly.graph_objs as go\n",
    "\n",
    "# Add an invisible yellow dashed line for \"30 GeV muon\"\n",
    "fig.add_trace(go.Scatter(\n",
    "    x=[None], y=[None],  # Invisible line (no data points)\n",
    "    mode='lines',\n",
    "    line=dict(color='black', dash='dash'),\n",
    "    showlegend=False  # Do not show in legend\n",
    "))\n",
    "\n",
    "# Add an invisible purple straight line for \"150 GeV muon\"\n",
    "fig.add_trace(go.Scatter(\n",
    "    x=[None], y=[None],  # Invisible line (no data points)\n",
    "    mode='lines',\n",
    "    line=dict(color='purple', dash='solid'),\n",
    "    showlegend=False  # Do not show in legend\n",
    "))\n",
    "\n",
    "# Add an annotation (textbox) with the two legends\n",
    "fig.add_annotation(\n",
    "    x=0.55, y=.99,  # Position the annotation above the plot\n",
    "    xref=\"paper\", yref=\"paper\",\n",
    "        text=(\n",
    "        \"<span style='color:black;'>─ ─ 30 GeV muon</span><br>\"\n",
    "        \"<span style='color:purple;'>─ ─ 150 GeV muon</span><br>\"\n",
    "        \"<span style='color:red;'>■ direct field</span><br>\"\n",
    "        \"<span style='color:lightblue;'>■ inverse field</span><br>\"\n",
    "        \"<span style='color:green;'>■ possible MTC locations</span>\"\n",
    "            \n",
    "    ),\n",
    "    showarrow=False,\n",
    "    align='left',\n",
    "    font=dict(size=22)\n",
    ")\n",
    "\n",
    "# # Update layout to adjust margins\n",
    "# fig.update_layout(\n",
    "#     margin=dict(l=20, r=20, t=100, b=20),\n",
    "#     height=400\n",
    "# )\n",
    "\n",
    "fig.update_layout(\n",
    "# title_text=title, # title of plot\n",
    "# showlegend=False,\n",
    "font=dict(size=22),\n",
    "        width=1200,\n",
    "        height=600,\n",
    "# title_text=\"Muon flux rates\",\n",
    "    plot_bgcolor='white',\n",
    "    barmode='group'\n",
    ")\n",
    "fig.update_layout(\n",
    "    yaxis=dict(range=[-400, 400])  # Set y-axis range from 0 to 60\n",
    ")\n",
    "fig.update_xaxes(\n",
    "    mirror=True,\n",
    "    ticks='outside',\n",
    "    showline=True,\n",
    "    linecolor='black',\n",
    "    gridcolor='lightgrey'\n",
    ")\n",
    "fig.update_yaxes(\n",
    "    mirror=True,\n",
    "    ticks='outside',\n",
    "    showline=True,\n",
    "    linecolor='black',\n",
    "    gridcolor='lightgrey'\n",
    ")\n",
    "fig.write_image(\"shield.pdf\")\n",
    "fig.show()"
   ]
  },
  {
   "cell_type": "code",
   "execution_count": 12,
   "id": "56ff2204-fa0e-45cd-8623-38a68403bc1b",
   "metadata": {},
   "outputs": [
    {
     "data": {
      "application/vnd.plotly.v1+json": {
       "config": {
        "plotlyServerURL": "https://plot.ly"
       },
       "data": [
        {
         "type": "bar",
         "x": [
          1,
          2,
          3
         ],
         "y": [
          1,
          3,
          2
         ]
        }
       ],
       "layout": {
        "template": {
         "data": {
          "bar": [
           {
            "error_x": {
             "color": "#2a3f5f"
            },
            "error_y": {
             "color": "#2a3f5f"
            },
            "marker": {
             "line": {
              "color": "#E5ECF6",
              "width": 0.5
             },
             "pattern": {
              "fillmode": "overlay",
              "size": 10,
              "solidity": 0.2
             }
            },
            "type": "bar"
           }
          ],
          "barpolar": [
           {
            "marker": {
             "line": {
              "color": "#E5ECF6",
              "width": 0.5
             },
             "pattern": {
              "fillmode": "overlay",
              "size": 10,
              "solidity": 0.2
             }
            },
            "type": "barpolar"
           }
          ],
          "carpet": [
           {
            "aaxis": {
             "endlinecolor": "#2a3f5f",
             "gridcolor": "white",
             "linecolor": "white",
             "minorgridcolor": "white",
             "startlinecolor": "#2a3f5f"
            },
            "baxis": {
             "endlinecolor": "#2a3f5f",
             "gridcolor": "white",
             "linecolor": "white",
             "minorgridcolor": "white",
             "startlinecolor": "#2a3f5f"
            },
            "type": "carpet"
           }
          ],
          "choropleth": [
           {
            "colorbar": {
             "outlinewidth": 0,
             "ticks": ""
            },
            "type": "choropleth"
           }
          ],
          "contour": [
           {
            "colorbar": {
             "outlinewidth": 0,
             "ticks": ""
            },
            "colorscale": [
             [
              0,
              "#0d0887"
             ],
             [
              0.1111111111111111,
              "#46039f"
             ],
             [
              0.2222222222222222,
              "#7201a8"
             ],
             [
              0.3333333333333333,
              "#9c179e"
             ],
             [
              0.4444444444444444,
              "#bd3786"
             ],
             [
              0.5555555555555556,
              "#d8576b"
             ],
             [
              0.6666666666666666,
              "#ed7953"
             ],
             [
              0.7777777777777778,
              "#fb9f3a"
             ],
             [
              0.8888888888888888,
              "#fdca26"
             ],
             [
              1,
              "#f0f921"
             ]
            ],
            "type": "contour"
           }
          ],
          "contourcarpet": [
           {
            "colorbar": {
             "outlinewidth": 0,
             "ticks": ""
            },
            "type": "contourcarpet"
           }
          ],
          "heatmap": [
           {
            "colorbar": {
             "outlinewidth": 0,
             "ticks": ""
            },
            "colorscale": [
             [
              0,
              "#0d0887"
             ],
             [
              0.1111111111111111,
              "#46039f"
             ],
             [
              0.2222222222222222,
              "#7201a8"
             ],
             [
              0.3333333333333333,
              "#9c179e"
             ],
             [
              0.4444444444444444,
              "#bd3786"
             ],
             [
              0.5555555555555556,
              "#d8576b"
             ],
             [
              0.6666666666666666,
              "#ed7953"
             ],
             [
              0.7777777777777778,
              "#fb9f3a"
             ],
             [
              0.8888888888888888,
              "#fdca26"
             ],
             [
              1,
              "#f0f921"
             ]
            ],
            "type": "heatmap"
           }
          ],
          "heatmapgl": [
           {
            "colorbar": {
             "outlinewidth": 0,
             "ticks": ""
            },
            "colorscale": [
             [
              0,
              "#0d0887"
             ],
             [
              0.1111111111111111,
              "#46039f"
             ],
             [
              0.2222222222222222,
              "#7201a8"
             ],
             [
              0.3333333333333333,
              "#9c179e"
             ],
             [
              0.4444444444444444,
              "#bd3786"
             ],
             [
              0.5555555555555556,
              "#d8576b"
             ],
             [
              0.6666666666666666,
              "#ed7953"
             ],
             [
              0.7777777777777778,
              "#fb9f3a"
             ],
             [
              0.8888888888888888,
              "#fdca26"
             ],
             [
              1,
              "#f0f921"
             ]
            ],
            "type": "heatmapgl"
           }
          ],
          "histogram": [
           {
            "marker": {
             "pattern": {
              "fillmode": "overlay",
              "size": 10,
              "solidity": 0.2
             }
            },
            "type": "histogram"
           }
          ],
          "histogram2d": [
           {
            "colorbar": {
             "outlinewidth": 0,
             "ticks": ""
            },
            "colorscale": [
             [
              0,
              "#0d0887"
             ],
             [
              0.1111111111111111,
              "#46039f"
             ],
             [
              0.2222222222222222,
              "#7201a8"
             ],
             [
              0.3333333333333333,
              "#9c179e"
             ],
             [
              0.4444444444444444,
              "#bd3786"
             ],
             [
              0.5555555555555556,
              "#d8576b"
             ],
             [
              0.6666666666666666,
              "#ed7953"
             ],
             [
              0.7777777777777778,
              "#fb9f3a"
             ],
             [
              0.8888888888888888,
              "#fdca26"
             ],
             [
              1,
              "#f0f921"
             ]
            ],
            "type": "histogram2d"
           }
          ],
          "histogram2dcontour": [
           {
            "colorbar": {
             "outlinewidth": 0,
             "ticks": ""
            },
            "colorscale": [
             [
              0,
              "#0d0887"
             ],
             [
              0.1111111111111111,
              "#46039f"
             ],
             [
              0.2222222222222222,
              "#7201a8"
             ],
             [
              0.3333333333333333,
              "#9c179e"
             ],
             [
              0.4444444444444444,
              "#bd3786"
             ],
             [
              0.5555555555555556,
              "#d8576b"
             ],
             [
              0.6666666666666666,
              "#ed7953"
             ],
             [
              0.7777777777777778,
              "#fb9f3a"
             ],
             [
              0.8888888888888888,
              "#fdca26"
             ],
             [
              1,
              "#f0f921"
             ]
            ],
            "type": "histogram2dcontour"
           }
          ],
          "mesh3d": [
           {
            "colorbar": {
             "outlinewidth": 0,
             "ticks": ""
            },
            "type": "mesh3d"
           }
          ],
          "parcoords": [
           {
            "line": {
             "colorbar": {
              "outlinewidth": 0,
              "ticks": ""
             }
            },
            "type": "parcoords"
           }
          ],
          "pie": [
           {
            "automargin": true,
            "type": "pie"
           }
          ],
          "scatter": [
           {
            "fillpattern": {
             "fillmode": "overlay",
             "size": 10,
             "solidity": 0.2
            },
            "type": "scatter"
           }
          ],
          "scatter3d": [
           {
            "line": {
             "colorbar": {
              "outlinewidth": 0,
              "ticks": ""
             }
            },
            "marker": {
             "colorbar": {
              "outlinewidth": 0,
              "ticks": ""
             }
            },
            "type": "scatter3d"
           }
          ],
          "scattercarpet": [
           {
            "marker": {
             "colorbar": {
              "outlinewidth": 0,
              "ticks": ""
             }
            },
            "type": "scattercarpet"
           }
          ],
          "scattergeo": [
           {
            "marker": {
             "colorbar": {
              "outlinewidth": 0,
              "ticks": ""
             }
            },
            "type": "scattergeo"
           }
          ],
          "scattergl": [
           {
            "marker": {
             "colorbar": {
              "outlinewidth": 0,
              "ticks": ""
             }
            },
            "type": "scattergl"
           }
          ],
          "scattermapbox": [
           {
            "marker": {
             "colorbar": {
              "outlinewidth": 0,
              "ticks": ""
             }
            },
            "type": "scattermapbox"
           }
          ],
          "scatterpolar": [
           {
            "marker": {
             "colorbar": {
              "outlinewidth": 0,
              "ticks": ""
             }
            },
            "type": "scatterpolar"
           }
          ],
          "scatterpolargl": [
           {
            "marker": {
             "colorbar": {
              "outlinewidth": 0,
              "ticks": ""
             }
            },
            "type": "scatterpolargl"
           }
          ],
          "scatterternary": [
           {
            "marker": {
             "colorbar": {
              "outlinewidth": 0,
              "ticks": ""
             }
            },
            "type": "scatterternary"
           }
          ],
          "surface": [
           {
            "colorbar": {
             "outlinewidth": 0,
             "ticks": ""
            },
            "colorscale": [
             [
              0,
              "#0d0887"
             ],
             [
              0.1111111111111111,
              "#46039f"
             ],
             [
              0.2222222222222222,
              "#7201a8"
             ],
             [
              0.3333333333333333,
              "#9c179e"
             ],
             [
              0.4444444444444444,
              "#bd3786"
             ],
             [
              0.5555555555555556,
              "#d8576b"
             ],
             [
              0.6666666666666666,
              "#ed7953"
             ],
             [
              0.7777777777777778,
              "#fb9f3a"
             ],
             [
              0.8888888888888888,
              "#fdca26"
             ],
             [
              1,
              "#f0f921"
             ]
            ],
            "type": "surface"
           }
          ],
          "table": [
           {
            "cells": {
             "fill": {
              "color": "#EBF0F8"
             },
             "line": {
              "color": "white"
             }
            },
            "header": {
             "fill": {
              "color": "#C8D4E3"
             },
             "line": {
              "color": "white"
             }
            },
            "type": "table"
           }
          ]
         },
         "layout": {
          "annotationdefaults": {
           "arrowcolor": "#2a3f5f",
           "arrowhead": 0,
           "arrowwidth": 1
          },
          "autotypenumbers": "strict",
          "coloraxis": {
           "colorbar": {
            "outlinewidth": 0,
            "ticks": ""
           }
          },
          "colorscale": {
           "diverging": [
            [
             0,
             "#8e0152"
            ],
            [
             0.1,
             "#c51b7d"
            ],
            [
             0.2,
             "#de77ae"
            ],
            [
             0.3,
             "#f1b6da"
            ],
            [
             0.4,
             "#fde0ef"
            ],
            [
             0.5,
             "#f7f7f7"
            ],
            [
             0.6,
             "#e6f5d0"
            ],
            [
             0.7,
             "#b8e186"
            ],
            [
             0.8,
             "#7fbc41"
            ],
            [
             0.9,
             "#4d9221"
            ],
            [
             1,
             "#276419"
            ]
           ],
           "sequential": [
            [
             0,
             "#0d0887"
            ],
            [
             0.1111111111111111,
             "#46039f"
            ],
            [
             0.2222222222222222,
             "#7201a8"
            ],
            [
             0.3333333333333333,
             "#9c179e"
            ],
            [
             0.4444444444444444,
             "#bd3786"
            ],
            [
             0.5555555555555556,
             "#d8576b"
            ],
            [
             0.6666666666666666,
             "#ed7953"
            ],
            [
             0.7777777777777778,
             "#fb9f3a"
            ],
            [
             0.8888888888888888,
             "#fdca26"
            ],
            [
             1,
             "#f0f921"
            ]
           ],
           "sequentialminus": [
            [
             0,
             "#0d0887"
            ],
            [
             0.1111111111111111,
             "#46039f"
            ],
            [
             0.2222222222222222,
             "#7201a8"
            ],
            [
             0.3333333333333333,
             "#9c179e"
            ],
            [
             0.4444444444444444,
             "#bd3786"
            ],
            [
             0.5555555555555556,
             "#d8576b"
            ],
            [
             0.6666666666666666,
             "#ed7953"
            ],
            [
             0.7777777777777778,
             "#fb9f3a"
            ],
            [
             0.8888888888888888,
             "#fdca26"
            ],
            [
             1,
             "#f0f921"
            ]
           ]
          },
          "colorway": [
           "#636efa",
           "#EF553B",
           "#00cc96",
           "#ab63fa",
           "#FFA15A",
           "#19d3f3",
           "#FF6692",
           "#B6E880",
           "#FF97FF",
           "#FECB52"
          ],
          "font": {
           "color": "#2a3f5f"
          },
          "geo": {
           "bgcolor": "white",
           "lakecolor": "white",
           "landcolor": "#E5ECF6",
           "showlakes": true,
           "showland": true,
           "subunitcolor": "white"
          },
          "hoverlabel": {
           "align": "left"
          },
          "hovermode": "closest",
          "mapbox": {
           "style": "light"
          },
          "paper_bgcolor": "white",
          "plot_bgcolor": "#E5ECF6",
          "polar": {
           "angularaxis": {
            "gridcolor": "white",
            "linecolor": "white",
            "ticks": ""
           },
           "bgcolor": "#E5ECF6",
           "radialaxis": {
            "gridcolor": "white",
            "linecolor": "white",
            "ticks": ""
           }
          },
          "scene": {
           "xaxis": {
            "backgroundcolor": "#E5ECF6",
            "gridcolor": "white",
            "gridwidth": 2,
            "linecolor": "white",
            "showbackground": true,
            "ticks": "",
            "zerolinecolor": "white"
           },
           "yaxis": {
            "backgroundcolor": "#E5ECF6",
            "gridcolor": "white",
            "gridwidth": 2,
            "linecolor": "white",
            "showbackground": true,
            "ticks": "",
            "zerolinecolor": "white"
           },
           "zaxis": {
            "backgroundcolor": "#E5ECF6",
            "gridcolor": "white",
            "gridwidth": 2,
            "linecolor": "white",
            "showbackground": true,
            "ticks": "",
            "zerolinecolor": "white"
           }
          },
          "shapedefaults": {
           "line": {
            "color": "#2a3f5f"
           }
          },
          "ternary": {
           "aaxis": {
            "gridcolor": "white",
            "linecolor": "white",
            "ticks": ""
           },
           "baxis": {
            "gridcolor": "white",
            "linecolor": "white",
            "ticks": ""
           },
           "bgcolor": "#E5ECF6",
           "caxis": {
            "gridcolor": "white",
            "linecolor": "white",
            "ticks": ""
           }
          },
          "title": {
           "x": 0.05
          },
          "xaxis": {
           "automargin": true,
           "gridcolor": "white",
           "linecolor": "white",
           "ticks": "",
           "title": {
            "standoff": 15
           },
           "zerolinecolor": "white",
           "zerolinewidth": 2
          },
          "yaxis": {
           "automargin": true,
           "gridcolor": "white",
           "linecolor": "white",
           "ticks": "",
           "title": {
            "standoff": 15
           },
           "zerolinecolor": "white",
           "zerolinewidth": 2
          }
         }
        },
        "title": {
         "text": "A Figure Specified By A Graph Object"
        }
       }
      },
      "text/html": [
       "<div>                            <div id=\"5819e27e-33b2-458e-b43b-995694570308\" class=\"plotly-graph-div\" style=\"height:525px; width:100%;\"></div>            <script type=\"text/javascript\">                require([\"plotly\"], function(Plotly) {                    window.PLOTLYENV=window.PLOTLYENV || {};                                    if (document.getElementById(\"5819e27e-33b2-458e-b43b-995694570308\")) {                    Plotly.newPlot(                        \"5819e27e-33b2-458e-b43b-995694570308\",                        [{\"x\":[1,2,3],\"y\":[1,3,2],\"type\":\"bar\"}],                        {\"title\":{\"text\":\"A Figure Specified By A Graph Object\"},\"template\":{\"data\":{\"histogram2dcontour\":[{\"type\":\"histogram2dcontour\",\"colorbar\":{\"outlinewidth\":0,\"ticks\":\"\"},\"colorscale\":[[0.0,\"#0d0887\"],[0.1111111111111111,\"#46039f\"],[0.2222222222222222,\"#7201a8\"],[0.3333333333333333,\"#9c179e\"],[0.4444444444444444,\"#bd3786\"],[0.5555555555555556,\"#d8576b\"],[0.6666666666666666,\"#ed7953\"],[0.7777777777777778,\"#fb9f3a\"],[0.8888888888888888,\"#fdca26\"],[1.0,\"#f0f921\"]]}],\"choropleth\":[{\"type\":\"choropleth\",\"colorbar\":{\"outlinewidth\":0,\"ticks\":\"\"}}],\"histogram2d\":[{\"type\":\"histogram2d\",\"colorbar\":{\"outlinewidth\":0,\"ticks\":\"\"},\"colorscale\":[[0.0,\"#0d0887\"],[0.1111111111111111,\"#46039f\"],[0.2222222222222222,\"#7201a8\"],[0.3333333333333333,\"#9c179e\"],[0.4444444444444444,\"#bd3786\"],[0.5555555555555556,\"#d8576b\"],[0.6666666666666666,\"#ed7953\"],[0.7777777777777778,\"#fb9f3a\"],[0.8888888888888888,\"#fdca26\"],[1.0,\"#f0f921\"]]}],\"heatmap\":[{\"type\":\"heatmap\",\"colorbar\":{\"outlinewidth\":0,\"ticks\":\"\"},\"colorscale\":[[0.0,\"#0d0887\"],[0.1111111111111111,\"#46039f\"],[0.2222222222222222,\"#7201a8\"],[0.3333333333333333,\"#9c179e\"],[0.4444444444444444,\"#bd3786\"],[0.5555555555555556,\"#d8576b\"],[0.6666666666666666,\"#ed7953\"],[0.7777777777777778,\"#fb9f3a\"],[0.8888888888888888,\"#fdca26\"],[1.0,\"#f0f921\"]]}],\"heatmapgl\":[{\"type\":\"heatmapgl\",\"colorbar\":{\"outlinewidth\":0,\"ticks\":\"\"},\"colorscale\":[[0.0,\"#0d0887\"],[0.1111111111111111,\"#46039f\"],[0.2222222222222222,\"#7201a8\"],[0.3333333333333333,\"#9c179e\"],[0.4444444444444444,\"#bd3786\"],[0.5555555555555556,\"#d8576b\"],[0.6666666666666666,\"#ed7953\"],[0.7777777777777778,\"#fb9f3a\"],[0.8888888888888888,\"#fdca26\"],[1.0,\"#f0f921\"]]}],\"contourcarpet\":[{\"type\":\"contourcarpet\",\"colorbar\":{\"outlinewidth\":0,\"ticks\":\"\"}}],\"contour\":[{\"type\":\"contour\",\"colorbar\":{\"outlinewidth\":0,\"ticks\":\"\"},\"colorscale\":[[0.0,\"#0d0887\"],[0.1111111111111111,\"#46039f\"],[0.2222222222222222,\"#7201a8\"],[0.3333333333333333,\"#9c179e\"],[0.4444444444444444,\"#bd3786\"],[0.5555555555555556,\"#d8576b\"],[0.6666666666666666,\"#ed7953\"],[0.7777777777777778,\"#fb9f3a\"],[0.8888888888888888,\"#fdca26\"],[1.0,\"#f0f921\"]]}],\"surface\":[{\"type\":\"surface\",\"colorbar\":{\"outlinewidth\":0,\"ticks\":\"\"},\"colorscale\":[[0.0,\"#0d0887\"],[0.1111111111111111,\"#46039f\"],[0.2222222222222222,\"#7201a8\"],[0.3333333333333333,\"#9c179e\"],[0.4444444444444444,\"#bd3786\"],[0.5555555555555556,\"#d8576b\"],[0.6666666666666666,\"#ed7953\"],[0.7777777777777778,\"#fb9f3a\"],[0.8888888888888888,\"#fdca26\"],[1.0,\"#f0f921\"]]}],\"mesh3d\":[{\"type\":\"mesh3d\",\"colorbar\":{\"outlinewidth\":0,\"ticks\":\"\"}}],\"scatter\":[{\"fillpattern\":{\"fillmode\":\"overlay\",\"size\":10,\"solidity\":0.2},\"type\":\"scatter\"}],\"parcoords\":[{\"type\":\"parcoords\",\"line\":{\"colorbar\":{\"outlinewidth\":0,\"ticks\":\"\"}}}],\"scatterpolargl\":[{\"type\":\"scatterpolargl\",\"marker\":{\"colorbar\":{\"outlinewidth\":0,\"ticks\":\"\"}}}],\"bar\":[{\"error_x\":{\"color\":\"#2a3f5f\"},\"error_y\":{\"color\":\"#2a3f5f\"},\"marker\":{\"line\":{\"color\":\"#E5ECF6\",\"width\":0.5},\"pattern\":{\"fillmode\":\"overlay\",\"size\":10,\"solidity\":0.2}},\"type\":\"bar\"}],\"scattergeo\":[{\"type\":\"scattergeo\",\"marker\":{\"colorbar\":{\"outlinewidth\":0,\"ticks\":\"\"}}}],\"scatterpolar\":[{\"type\":\"scatterpolar\",\"marker\":{\"colorbar\":{\"outlinewidth\":0,\"ticks\":\"\"}}}],\"histogram\":[{\"marker\":{\"pattern\":{\"fillmode\":\"overlay\",\"size\":10,\"solidity\":0.2}},\"type\":\"histogram\"}],\"scattergl\":[{\"type\":\"scattergl\",\"marker\":{\"colorbar\":{\"outlinewidth\":0,\"ticks\":\"\"}}}],\"scatter3d\":[{\"type\":\"scatter3d\",\"line\":{\"colorbar\":{\"outlinewidth\":0,\"ticks\":\"\"}},\"marker\":{\"colorbar\":{\"outlinewidth\":0,\"ticks\":\"\"}}}],\"scattermapbox\":[{\"type\":\"scattermapbox\",\"marker\":{\"colorbar\":{\"outlinewidth\":0,\"ticks\":\"\"}}}],\"scatterternary\":[{\"type\":\"scatterternary\",\"marker\":{\"colorbar\":{\"outlinewidth\":0,\"ticks\":\"\"}}}],\"scattercarpet\":[{\"type\":\"scattercarpet\",\"marker\":{\"colorbar\":{\"outlinewidth\":0,\"ticks\":\"\"}}}],\"carpet\":[{\"aaxis\":{\"endlinecolor\":\"#2a3f5f\",\"gridcolor\":\"white\",\"linecolor\":\"white\",\"minorgridcolor\":\"white\",\"startlinecolor\":\"#2a3f5f\"},\"baxis\":{\"endlinecolor\":\"#2a3f5f\",\"gridcolor\":\"white\",\"linecolor\":\"white\",\"minorgridcolor\":\"white\",\"startlinecolor\":\"#2a3f5f\"},\"type\":\"carpet\"}],\"table\":[{\"cells\":{\"fill\":{\"color\":\"#EBF0F8\"},\"line\":{\"color\":\"white\"}},\"header\":{\"fill\":{\"color\":\"#C8D4E3\"},\"line\":{\"color\":\"white\"}},\"type\":\"table\"}],\"barpolar\":[{\"marker\":{\"line\":{\"color\":\"#E5ECF6\",\"width\":0.5},\"pattern\":{\"fillmode\":\"overlay\",\"size\":10,\"solidity\":0.2}},\"type\":\"barpolar\"}],\"pie\":[{\"automargin\":true,\"type\":\"pie\"}]},\"layout\":{\"autotypenumbers\":\"strict\",\"colorway\":[\"#636efa\",\"#EF553B\",\"#00cc96\",\"#ab63fa\",\"#FFA15A\",\"#19d3f3\",\"#FF6692\",\"#B6E880\",\"#FF97FF\",\"#FECB52\"],\"font\":{\"color\":\"#2a3f5f\"},\"hovermode\":\"closest\",\"hoverlabel\":{\"align\":\"left\"},\"paper_bgcolor\":\"white\",\"plot_bgcolor\":\"#E5ECF6\",\"polar\":{\"bgcolor\":\"#E5ECF6\",\"angularaxis\":{\"gridcolor\":\"white\",\"linecolor\":\"white\",\"ticks\":\"\"},\"radialaxis\":{\"gridcolor\":\"white\",\"linecolor\":\"white\",\"ticks\":\"\"}},\"ternary\":{\"bgcolor\":\"#E5ECF6\",\"aaxis\":{\"gridcolor\":\"white\",\"linecolor\":\"white\",\"ticks\":\"\"},\"baxis\":{\"gridcolor\":\"white\",\"linecolor\":\"white\",\"ticks\":\"\"},\"caxis\":{\"gridcolor\":\"white\",\"linecolor\":\"white\",\"ticks\":\"\"}},\"coloraxis\":{\"colorbar\":{\"outlinewidth\":0,\"ticks\":\"\"}},\"colorscale\":{\"sequential\":[[0.0,\"#0d0887\"],[0.1111111111111111,\"#46039f\"],[0.2222222222222222,\"#7201a8\"],[0.3333333333333333,\"#9c179e\"],[0.4444444444444444,\"#bd3786\"],[0.5555555555555556,\"#d8576b\"],[0.6666666666666666,\"#ed7953\"],[0.7777777777777778,\"#fb9f3a\"],[0.8888888888888888,\"#fdca26\"],[1.0,\"#f0f921\"]],\"sequentialminus\":[[0.0,\"#0d0887\"],[0.1111111111111111,\"#46039f\"],[0.2222222222222222,\"#7201a8\"],[0.3333333333333333,\"#9c179e\"],[0.4444444444444444,\"#bd3786\"],[0.5555555555555556,\"#d8576b\"],[0.6666666666666666,\"#ed7953\"],[0.7777777777777778,\"#fb9f3a\"],[0.8888888888888888,\"#fdca26\"],[1.0,\"#f0f921\"]],\"diverging\":[[0,\"#8e0152\"],[0.1,\"#c51b7d\"],[0.2,\"#de77ae\"],[0.3,\"#f1b6da\"],[0.4,\"#fde0ef\"],[0.5,\"#f7f7f7\"],[0.6,\"#e6f5d0\"],[0.7,\"#b8e186\"],[0.8,\"#7fbc41\"],[0.9,\"#4d9221\"],[1,\"#276419\"]]},\"xaxis\":{\"gridcolor\":\"white\",\"linecolor\":\"white\",\"ticks\":\"\",\"title\":{\"standoff\":15},\"zerolinecolor\":\"white\",\"automargin\":true,\"zerolinewidth\":2},\"yaxis\":{\"gridcolor\":\"white\",\"linecolor\":\"white\",\"ticks\":\"\",\"title\":{\"standoff\":15},\"zerolinecolor\":\"white\",\"automargin\":true,\"zerolinewidth\":2},\"scene\":{\"xaxis\":{\"backgroundcolor\":\"#E5ECF6\",\"gridcolor\":\"white\",\"linecolor\":\"white\",\"showbackground\":true,\"ticks\":\"\",\"zerolinecolor\":\"white\",\"gridwidth\":2},\"yaxis\":{\"backgroundcolor\":\"#E5ECF6\",\"gridcolor\":\"white\",\"linecolor\":\"white\",\"showbackground\":true,\"ticks\":\"\",\"zerolinecolor\":\"white\",\"gridwidth\":2},\"zaxis\":{\"backgroundcolor\":\"#E5ECF6\",\"gridcolor\":\"white\",\"linecolor\":\"white\",\"showbackground\":true,\"ticks\":\"\",\"zerolinecolor\":\"white\",\"gridwidth\":2}},\"shapedefaults\":{\"line\":{\"color\":\"#2a3f5f\"}},\"annotationdefaults\":{\"arrowcolor\":\"#2a3f5f\",\"arrowhead\":0,\"arrowwidth\":1},\"geo\":{\"bgcolor\":\"white\",\"landcolor\":\"#E5ECF6\",\"subunitcolor\":\"white\",\"showland\":true,\"showlakes\":true,\"lakecolor\":\"white\"},\"title\":{\"x\":0.05},\"mapbox\":{\"style\":\"light\"}}}},                        {\"responsive\": true}                    ).then(function(){\n",
       "                            \n",
       "var gd = document.getElementById('5819e27e-33b2-458e-b43b-995694570308');\n",
       "var x = new MutationObserver(function (mutations, observer) {{\n",
       "        var display = window.getComputedStyle(gd).display;\n",
       "        if (!display || display === 'none') {{\n",
       "            console.log([gd, 'removed!']);\n",
       "            Plotly.purge(gd);\n",
       "            observer.disconnect();\n",
       "        }}\n",
       "}});\n",
       "\n",
       "// Listen for the removal of the full notebook cells\n",
       "var notebookContainer = gd.closest('#notebook-container');\n",
       "if (notebookContainer) {{\n",
       "    x.observe(notebookContainer, {childList: true});\n",
       "}}\n",
       "\n",
       "// Listen for the clearing of the current output cell\n",
       "var outputEl = gd.closest('.output');\n",
       "if (outputEl) {{\n",
       "    x.observe(outputEl, {childList: true});\n",
       "}}\n",
       "\n",
       "                        })                };                });            </script>        </div>"
      ]
     },
     "metadata": {},
     "output_type": "display_data"
    }
   ],
   "source": [
    "import plotly.graph_objects as go\n",
    "\n",
    "fig = go.Figure(\n",
    "    data=[go.Bar(x=[1, 2, 3], y=[1, 3, 2])],\n",
    "    layout=go.Layout(\n",
    "        title=go.layout.Title(text=\"A Figure Specified By A Graph Object\")\n",
    "    )\n",
    ")\n",
    "\n",
    "fig.show()"
   ]
  },
  {
   "cell_type": "code",
   "execution_count": 32,
   "id": "992b7bce-b9cd-47b4-8d87-c4424db470e9",
   "metadata": {},
   "outputs": [],
   "source": [
    "rec_1 = go.Scatter(x=[996.322, 996.322, 1365.99, 1365.99, 996.322], y=[-25, 25, 25, -25, -25], fill=\"toself\", \n",
    "                       #fillcolor=\"black\", line_color=\"black\", marker=dict(opacity=0), \n",
    "                       meta=dict(name=\"Up polarity\"), showlegend = False)"
   ]
  },
  {
   "cell_type": "code",
   "execution_count": 33,
   "id": "cde3bc29-6bc3-4b55-9006-dd8869212311",
   "metadata": {},
   "outputs": [
    {
     "data": {
      "text/plain": [
       "Scatter({\n",
       "    'fill': 'toself',\n",
       "    'meta': {'name': 'Up polarity'},\n",
       "    'showlegend': False,\n",
       "    'x': [996.322, 996.322, 1365.99, 1365.99, 996.322],\n",
       "    'y': [-25, 25, 25, -25, -25]\n",
       "})"
      ]
     },
     "execution_count": 33,
     "metadata": {},
     "output_type": "execute_result"
    }
   ],
   "source": [
    "rec_1"
   ]
  },
  {
   "cell_type": "code",
   "execution_count": null,
   "id": "2c74ff3a-e0b5-4c80-8763-224f78a8a921",
   "metadata": {},
   "outputs": [],
   "source": []
  }
 ],
 "metadata": {
  "kernelspec": {
   "display_name": "Python 3 (ipykernel)",
   "language": "python",
   "name": "python3"
  },
  "language_info": {
   "codemirror_mode": {
    "name": "ipython",
    "version": 3
   },
   "file_extension": ".py",
   "mimetype": "text/x-python",
   "name": "python",
   "nbconvert_exporter": "python",
   "pygments_lexer": "ipython3",
   "version": "3.12.4"
  }
 },
 "nbformat": 4,
 "nbformat_minor": 5
}
